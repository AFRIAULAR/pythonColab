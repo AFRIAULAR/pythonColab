{
  "nbformat": 4,
  "nbformat_minor": 0,
  "metadata": {
    "colab": {
      "provenance": [],
      "authorship_tag": "ABX9TyNa8WxEM2xVzhWgxCXufjOa",
      "include_colab_link": true
    },
    "kernelspec": {
      "name": "python3",
      "display_name": "Python 3"
    },
    "language_info": {
      "name": "python"
    }
  },
  "cells": [
    {
      "cell_type": "markdown",
      "metadata": {
        "id": "view-in-github",
        "colab_type": "text"
      },
      "source": [
        "<a href=\"https://colab.research.google.com/github/AFRIAULAR/pythonColab/blob/main/python_notes.ipynb\" target=\"_parent\"><img src=\"https://colab.research.google.com/assets/colab-badge.svg\" alt=\"Open In Colab\"/></a>"
      ]
    },
    {
      "cell_type": "markdown",
      "source": [
        "# 🌟Bienvenido a las Notes de Afri 💻\n",
        "> Ésta notebook está configurada como \"solo lectura\" para evitar modificaciones accidentales.\n",
        "\n",
        "Para hacer tu propia copia editable, sigue los siguientes pasos:\n",
        "1. Haz clic en el enlace: [Notebook](https://colab.research.google.com/drive/16_SRlPgckFQd9UcfDoMxRrvz-bnfb6Pa?authuser=0#scrollTo=y0Nu3te4Ahqr).\n",
        "2. Ir a Archivo > Guardar una copia en Drive.\n",
        "3. Ingesa para trabajar en tu propia copia.\n"
      ],
      "metadata": {
        "id": "y0Nu3te4Ahqr"
      }
    },
    {
      "cell_type": "markdown",
      "source": [
        "## ¿Cómo usar tu Notebook de Google Colab?\n",
        "\n",
        "Google Colab es una plataforma gratuita que te permite escribir y ejecutar código Python en tu navegador, usar GPU y TPU para proyectos de aprendizaje automático y colaborar con otras personas en tiempo real.\n",
        "\n",
        "Te invito a ver estos vídeos para tus primeros pasos:\n",
        "- [Entrando a Google Colab](https://youtube.com/shorts/j9nudt9h6Q8?si=ZLbwG_X51YQWaJ9e)\n",
        "\n",
        "- [Cómo usar google colab](https://youtube.com/shorts/nVWtpf1Nwew?si=nm3Aj5vtrMwUiqFo)"
      ],
      "metadata": {
        "id": "xH9FIQpOBogb"
      }
    },
    {
      "cell_type": "markdown",
      "source": [
        "# Introducción a Python 🐍\n",
        "#### 1. Instalación de Python y Entorno de Desarrollo\n",
        "\n",
        "- **Descargar Python:** [Python.org](https://www.python.org/downloads/)\n",
        "- **Descargar PyCharm Community Edition:** [JetBrains PyCharm](https://www.jetbrains.com/pycharm/download/)\n",
        "\n",
        "#### 2. Características de Python\n",
        "\n",
        "- **Creado en:** 1991 por Guido van Rossum\n",
        "- **Paradigmas:** Multiparadigma (POO, Iterativo, Funcional)\n",
        "- **Compatibilidad:** Funciona en cualquier Sistema Operativo\n",
        "- **Sintaxis:** Simple, minimalista y en inglés\n",
        "- **Interpretado:** Ejecuta instrucción por instrucción\n",
        "- **Dinámico:** Las variables pueden cambiar su tipo de dato durante la ejecución\n",
        "\n",
        "#### 3. Entornos de Desarrollo Integrados (IDE)\n",
        "\n",
        "- **Visual Studio Code (VSC)**\n",
        "- **PyCharm**\n",
        "- **PyDev (Eclipse)**\n",
        "- **Google Colab (Jupyter)**\n",
        "> Si usas Google Colab, no necesitas instalar Python, ya que se ejecuta en la nube\n",
        "---\n",
        "\n",
        "### Ejemplo de Código: Hola Mundo\n",
        "(Puedes probar cambiar el texto que está entre paréntesis)"
      ],
      "metadata": {
        "id": "HCp-UASOsa0L"
      }
    },
    {
      "cell_type": "code",
      "source": [
        "print(\"Hola bienvenido a mi cuaderno\")"
      ],
      "metadata": {
        "colab": {
          "base_uri": "https://localhost:8080/"
        },
        "id": "atG3jHzhTRMQ",
        "outputId": "4e8ab94e-e955-4264-8915-87bb8f4b6da2"
      },
      "execution_count": null,
      "outputs": [
        {
          "output_type": "stream",
          "name": "stdout",
          "text": [
            "Hola bienvenido a mi cuaderno\n"
          ]
        }
      ]
    },
    {
      "cell_type": "markdown",
      "source": [
        "## Índice general\n",
        "Acá encontrarás enlaces a otros cuadernos con clases y ejercicios:\n",
        "\n",
        "1. 🐍[Nociones básicas de Python](https://colab.research.google.com/drive/1LVg3d6r30AAAGZsxJ5zbaXNlmSNfrLWx)  \n",
        "2. ⌨[Estructura de Datos](https://colab.research.google.com/drive/1ufVSuCA05iUQUxJf-qbr3qiMhAjAve7F)  \n",
        "3. 📑 [Programación Orientada a Objetos](https://colab.research.google.com/drive/14DrCQN_YMeEPlZiuLdGtZQV7KR5K4_P0)\n",
        "4. ✅[Ejercicios Prácticos](https://colab.research.google.com/drive/1FQy6wBSJPwvQJCoofgljsmZ0nF9ZsKtj#scrollTo=465cGI9qGt-g)\n",
        "\n",
        "\n"
      ],
      "metadata": {
        "id": "gAklQ1WMue0N"
      }
    }
  ]
}