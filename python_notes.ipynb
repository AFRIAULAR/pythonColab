{
  "nbformat": 4,
  "nbformat_minor": 0,
  "metadata": {
    "colab": {
      "provenance": [],
      "toc_visible": true,
      "authorship_tag": "ABX9TyMXL9OPvpZxgBCFADMZzh2a",
      "include_colab_link": true
    },
    "kernelspec": {
      "name": "python3",
      "display_name": "Python 3"
    },
    "language_info": {
      "name": "python"
    }
  },
  "cells": [
    {
      "cell_type": "markdown",
      "metadata": {
        "id": "view-in-github",
        "colab_type": "text"
      },
      "source": [
        "<a href=\"https://colab.research.google.com/github/AFRIAULAR/pythonColab/blob/main/python_notes.ipynb\" target=\"_parent\"><img src=\"https://colab.research.google.com/assets/colab-badge.svg\" alt=\"Open In Colab\"/></a>"
      ]
    },
    {
      "cell_type": "code",
      "execution_count": null,
      "metadata": {
        "id": "mIsvIFb54zLv"
      },
      "outputs": [],
      "source": []
    },
    {
      "cell_type": "markdown",
      "source": [
        "# 🌟Bienvenido a las Notes de Afri 💻\n",
        "> Ésta notebook está configurada como \"solo lectura\" para evitar modificaciones accidentales.\n",
        "\n",
        "Para hacer tu propia copia editable, sigue los siguientes pasos:\n",
        "1. Haz clic en el enlace: [Notebook](https://colab.research.google.com/drive/16_SRlPgckFQd9UcfDoMxRrvz-bnfb6Pa?authuser=0#scrollTo=y0Nu3te4Ahqr).\n",
        "2. Ir a Archivo > Guardar una copia en Drive.\n",
        "3. Ingesa para trabajar en tu propia copia.\n"
      ],
      "metadata": {
        "id": "y0Nu3te4Ahqr"
      }
    },
    {
      "cell_type": "markdown",
      "source": [
        "## ¿Cómo usar tu Notebook de Google Colab?\n",
        "\n",
        "Google Colab es una plataforma gratuita que te permite escribir y ejecutar código Python en tu navegador, usar GPU y TPU para proyectos de aprendizaje automático y colaborar con otras personas en tiempo real.\n",
        "\n",
        "Te invito a ver estos vídeos para tus primeros pasos:\n",
        "- [Entrando a Google Colab](https://youtube.com/shorts/j9nudt9h6Q8?si=ZLbwG_X51YQWaJ9e)\n",
        "\n",
        "- [Cómo usar google colab](https://youtube.com/shorts/nVWtpf1Nwew?si=nm3Aj5vtrMwUiqFo)"
      ],
      "metadata": {
        "id": "xH9FIQpOBogb"
      }
    },
    {
      "cell_type": "markdown",
      "source": [],
      "metadata": {
        "id": "UR2YR7KcRgvB"
      }
    },
    {
      "cell_type": "code",
      "source": [
        "print(\"Hola afri\")"
      ],
      "metadata": {
        "colab": {
          "base_uri": "https://localhost:8080/"
        },
        "id": "atG3jHzhTRMQ",
        "outputId": "42724f49-d9b9-43fa-ea6f-9c7dbad98b56"
      },
      "execution_count": 1,
      "outputs": [
        {
          "output_type": "stream",
          "name": "stdout",
          "text": [
            "Hola afri\n"
          ]
        }
      ]
    }
  ]
}